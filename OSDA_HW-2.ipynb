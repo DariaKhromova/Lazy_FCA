{
  "cells": [
    {
      "cell_type": "code",
      "execution_count": 13,
      "metadata": {
        "colab": {
          "base_uri": "https://localhost:8080/"
        },
        "id": "-6RjgwoLwZIW",
        "outputId": "fadb0690-9b48-4e95-d179-f3674df33cd7"
      },
      "outputs": [
        {
          "output_type": "stream",
          "name": "stdout",
          "text": [
            "Requirement already satisfied: ucimlrepo in /usr/local/lib/python3.10/dist-packages (0.0.7)\n",
            "Requirement already satisfied: pandas>=1.0.0 in /usr/local/lib/python3.10/dist-packages (from ucimlrepo) (2.2.2)\n",
            "Requirement already satisfied: certifi>=2020.12.5 in /usr/local/lib/python3.10/dist-packages (from ucimlrepo) (2024.8.30)\n",
            "Requirement already satisfied: numpy>=1.22.4 in /usr/local/lib/python3.10/dist-packages (from pandas>=1.0.0->ucimlrepo) (1.26.4)\n",
            "Requirement already satisfied: python-dateutil>=2.8.2 in /usr/local/lib/python3.10/dist-packages (from pandas>=1.0.0->ucimlrepo) (2.8.2)\n",
            "Requirement already satisfied: pytz>=2020.1 in /usr/local/lib/python3.10/dist-packages (from pandas>=1.0.0->ucimlrepo) (2024.2)\n",
            "Requirement already satisfied: tzdata>=2022.7 in /usr/local/lib/python3.10/dist-packages (from pandas>=1.0.0->ucimlrepo) (2024.2)\n",
            "Requirement already satisfied: six>=1.5 in /usr/local/lib/python3.10/dist-packages (from python-dateutil>=2.8.2->pandas>=1.0.0->ucimlrepo) (1.16.0)\n"
          ]
        }
      ],
      "source": [
        "pip install ucimlrepo"
      ]
    },
    {
      "cell_type": "markdown",
      "metadata": {
        "id": "R4HyNB4WF0OE"
      },
      "source": [
        "https://archive.ics.uci.edu/dataset/19/car+evaluation"
      ]
    },
    {
      "cell_type": "code",
      "execution_count": 14,
      "metadata": {
        "id": "GG8_zY48v-25"
      },
      "outputs": [],
      "source": [
        "from ucimlrepo import fetch_ucirepo\n",
        "\n",
        "# fetch dataset\n",
        "car_evaluation = fetch_ucirepo(id=19)\n",
        "\n",
        "# data (as pandas dataframes)\n",
        "X = car_evaluation.data.features\n",
        "y = car_evaluation.data.targets"
      ]
    },
    {
      "cell_type": "code",
      "execution_count": 15,
      "metadata": {
        "colab": {
          "base_uri": "https://localhost:8080/"
        },
        "id": "llvGahpxwBA0",
        "outputId": "5f531199-9e43-4bc9-e55e-1aac3148aec9"
      },
      "outputs": [
        {
          "output_type": "stream",
          "name": "stdout",
          "text": [
            "       name     role         type demographic  \\\n",
            "0    buying  Feature  Categorical        None   \n",
            "1     maint  Feature  Categorical        None   \n",
            "2     doors  Feature  Categorical        None   \n",
            "3   persons  Feature  Categorical        None   \n",
            "4  lug_boot  Feature  Categorical        None   \n",
            "5    safety  Feature  Categorical        None   \n",
            "6     class   Target  Categorical        None   \n",
            "\n",
            "                                         description units missing_values  \n",
            "0                                       buying price  None             no  \n",
            "1                           price of the maintenance  None             no  \n",
            "2                                    number of doors  None             no  \n",
            "3              capacity in terms of persons to carry  None             no  \n",
            "4                           the size of luggage boot  None             no  \n",
            "5                        estimated safety of the car  None             no  \n",
            "6  evaulation level (unacceptable, acceptable, go...  None             no  \n"
          ]
        }
      ],
      "source": [
        "# variable information\n",
        "print(car_evaluation.variables)"
      ]
    },
    {
      "cell_type": "code",
      "execution_count": 16,
      "metadata": {
        "id": "22LuHbJCwA8q"
      },
      "outputs": [],
      "source": [
        "# Import necessary libraries\n",
        "import numpy as np\n",
        "import pandas as pd\n",
        "import matplotlib.pyplot as plt\n",
        "import math\n",
        "import seaborn as sns\n",
        "from sklearn.model_selection import train_test_split\n",
        "from sklearn.preprocessing import OneHotEncoder\n",
        "from sklearn.metrics import f1_score, accuracy_score, precision_score, recall_score"
      ]
    },
    {
      "cell_type": "code",
      "execution_count": 17,
      "metadata": {
        "colab": {
          "base_uri": "https://localhost:8080/",
          "height": 201
        },
        "id": "FGlPBBzRwA1V",
        "outputId": "35642ad5-24cf-4cd9-88b2-fe2e77687956"
      },
      "outputs": [
        {
          "output_type": "execute_result",
          "data": {
            "text/plain": [
              "  buying  maint doors persons lug_boot safety\n",
              "0  vhigh  vhigh     2       2    small    low\n",
              "1  vhigh  vhigh     2       2    small    med\n",
              "2  vhigh  vhigh     2       2    small   high\n",
              "3  vhigh  vhigh     2       2      med    low\n",
              "4  vhigh  vhigh     2       2      med    med"
            ],
            "text/html": [
              "\n",
              "  <div id=\"df-0cc0609d-77dd-4451-bb5e-582313ab44d9\" class=\"colab-df-container\">\n",
              "    <div>\n",
              "<style scoped>\n",
              "    .dataframe tbody tr th:only-of-type {\n",
              "        vertical-align: middle;\n",
              "    }\n",
              "\n",
              "    .dataframe tbody tr th {\n",
              "        vertical-align: top;\n",
              "    }\n",
              "\n",
              "    .dataframe thead th {\n",
              "        text-align: right;\n",
              "    }\n",
              "</style>\n",
              "<table border=\"1\" class=\"dataframe\">\n",
              "  <thead>\n",
              "    <tr style=\"text-align: right;\">\n",
              "      <th></th>\n",
              "      <th>buying</th>\n",
              "      <th>maint</th>\n",
              "      <th>doors</th>\n",
              "      <th>persons</th>\n",
              "      <th>lug_boot</th>\n",
              "      <th>safety</th>\n",
              "    </tr>\n",
              "  </thead>\n",
              "  <tbody>\n",
              "    <tr>\n",
              "      <th>0</th>\n",
              "      <td>vhigh</td>\n",
              "      <td>vhigh</td>\n",
              "      <td>2</td>\n",
              "      <td>2</td>\n",
              "      <td>small</td>\n",
              "      <td>low</td>\n",
              "    </tr>\n",
              "    <tr>\n",
              "      <th>1</th>\n",
              "      <td>vhigh</td>\n",
              "      <td>vhigh</td>\n",
              "      <td>2</td>\n",
              "      <td>2</td>\n",
              "      <td>small</td>\n",
              "      <td>med</td>\n",
              "    </tr>\n",
              "    <tr>\n",
              "      <th>2</th>\n",
              "      <td>vhigh</td>\n",
              "      <td>vhigh</td>\n",
              "      <td>2</td>\n",
              "      <td>2</td>\n",
              "      <td>small</td>\n",
              "      <td>high</td>\n",
              "    </tr>\n",
              "    <tr>\n",
              "      <th>3</th>\n",
              "      <td>vhigh</td>\n",
              "      <td>vhigh</td>\n",
              "      <td>2</td>\n",
              "      <td>2</td>\n",
              "      <td>med</td>\n",
              "      <td>low</td>\n",
              "    </tr>\n",
              "    <tr>\n",
              "      <th>4</th>\n",
              "      <td>vhigh</td>\n",
              "      <td>vhigh</td>\n",
              "      <td>2</td>\n",
              "      <td>2</td>\n",
              "      <td>med</td>\n",
              "      <td>med</td>\n",
              "    </tr>\n",
              "  </tbody>\n",
              "</table>\n",
              "</div>\n",
              "    <div class=\"colab-df-buttons\">\n",
              "\n",
              "  <div class=\"colab-df-container\">\n",
              "    <button class=\"colab-df-convert\" onclick=\"convertToInteractive('df-0cc0609d-77dd-4451-bb5e-582313ab44d9')\"\n",
              "            title=\"Convert this dataframe to an interactive table.\"\n",
              "            style=\"display:none;\">\n",
              "\n",
              "  <svg xmlns=\"http://www.w3.org/2000/svg\" height=\"24px\" viewBox=\"0 -960 960 960\">\n",
              "    <path d=\"M120-120v-720h720v720H120Zm60-500h600v-160H180v160Zm220 220h160v-160H400v160Zm0 220h160v-160H400v160ZM180-400h160v-160H180v160Zm440 0h160v-160H620v160ZM180-180h160v-160H180v160Zm440 0h160v-160H620v160Z\"/>\n",
              "  </svg>\n",
              "    </button>\n",
              "\n",
              "  <style>\n",
              "    .colab-df-container {\n",
              "      display:flex;\n",
              "      gap: 12px;\n",
              "    }\n",
              "\n",
              "    .colab-df-convert {\n",
              "      background-color: #E8F0FE;\n",
              "      border: none;\n",
              "      border-radius: 50%;\n",
              "      cursor: pointer;\n",
              "      display: none;\n",
              "      fill: #1967D2;\n",
              "      height: 32px;\n",
              "      padding: 0 0 0 0;\n",
              "      width: 32px;\n",
              "    }\n",
              "\n",
              "    .colab-df-convert:hover {\n",
              "      background-color: #E2EBFA;\n",
              "      box-shadow: 0px 1px 2px rgba(60, 64, 67, 0.3), 0px 1px 3px 1px rgba(60, 64, 67, 0.15);\n",
              "      fill: #174EA6;\n",
              "    }\n",
              "\n",
              "    .colab-df-buttons div {\n",
              "      margin-bottom: 4px;\n",
              "    }\n",
              "\n",
              "    [theme=dark] .colab-df-convert {\n",
              "      background-color: #3B4455;\n",
              "      fill: #D2E3FC;\n",
              "    }\n",
              "\n",
              "    [theme=dark] .colab-df-convert:hover {\n",
              "      background-color: #434B5C;\n",
              "      box-shadow: 0px 1px 3px 1px rgba(0, 0, 0, 0.15);\n",
              "      filter: drop-shadow(0px 1px 2px rgba(0, 0, 0, 0.3));\n",
              "      fill: #FFFFFF;\n",
              "    }\n",
              "  </style>\n",
              "\n",
              "    <script>\n",
              "      const buttonEl =\n",
              "        document.querySelector('#df-0cc0609d-77dd-4451-bb5e-582313ab44d9 button.colab-df-convert');\n",
              "      buttonEl.style.display =\n",
              "        google.colab.kernel.accessAllowed ? 'block' : 'none';\n",
              "\n",
              "      async function convertToInteractive(key) {\n",
              "        const element = document.querySelector('#df-0cc0609d-77dd-4451-bb5e-582313ab44d9');\n",
              "        const dataTable =\n",
              "          await google.colab.kernel.invokeFunction('convertToInteractive',\n",
              "                                                    [key], {});\n",
              "        if (!dataTable) return;\n",
              "\n",
              "        const docLinkHtml = 'Like what you see? Visit the ' +\n",
              "          '<a target=\"_blank\" href=https://colab.research.google.com/notebooks/data_table.ipynb>data table notebook</a>'\n",
              "          + ' to learn more about interactive tables.';\n",
              "        element.innerHTML = '';\n",
              "        dataTable['output_type'] = 'display_data';\n",
              "        await google.colab.output.renderOutput(dataTable, element);\n",
              "        const docLink = document.createElement('div');\n",
              "        docLink.innerHTML = docLinkHtml;\n",
              "        element.appendChild(docLink);\n",
              "      }\n",
              "    </script>\n",
              "  </div>\n",
              "\n",
              "\n",
              "<div id=\"df-a85a2213-00cb-4334-847a-a7cdfc6a85d0\">\n",
              "  <button class=\"colab-df-quickchart\" onclick=\"quickchart('df-a85a2213-00cb-4334-847a-a7cdfc6a85d0')\"\n",
              "            title=\"Suggest charts\"\n",
              "            style=\"display:none;\">\n",
              "\n",
              "<svg xmlns=\"http://www.w3.org/2000/svg\" height=\"24px\"viewBox=\"0 0 24 24\"\n",
              "     width=\"24px\">\n",
              "    <g>\n",
              "        <path d=\"M19 3H5c-1.1 0-2 .9-2 2v14c0 1.1.9 2 2 2h14c1.1 0 2-.9 2-2V5c0-1.1-.9-2-2-2zM9 17H7v-7h2v7zm4 0h-2V7h2v10zm4 0h-2v-4h2v4z\"/>\n",
              "    </g>\n",
              "</svg>\n",
              "  </button>\n",
              "\n",
              "<style>\n",
              "  .colab-df-quickchart {\n",
              "      --bg-color: #E8F0FE;\n",
              "      --fill-color: #1967D2;\n",
              "      --hover-bg-color: #E2EBFA;\n",
              "      --hover-fill-color: #174EA6;\n",
              "      --disabled-fill-color: #AAA;\n",
              "      --disabled-bg-color: #DDD;\n",
              "  }\n",
              "\n",
              "  [theme=dark] .colab-df-quickchart {\n",
              "      --bg-color: #3B4455;\n",
              "      --fill-color: #D2E3FC;\n",
              "      --hover-bg-color: #434B5C;\n",
              "      --hover-fill-color: #FFFFFF;\n",
              "      --disabled-bg-color: #3B4455;\n",
              "      --disabled-fill-color: #666;\n",
              "  }\n",
              "\n",
              "  .colab-df-quickchart {\n",
              "    background-color: var(--bg-color);\n",
              "    border: none;\n",
              "    border-radius: 50%;\n",
              "    cursor: pointer;\n",
              "    display: none;\n",
              "    fill: var(--fill-color);\n",
              "    height: 32px;\n",
              "    padding: 0;\n",
              "    width: 32px;\n",
              "  }\n",
              "\n",
              "  .colab-df-quickchart:hover {\n",
              "    background-color: var(--hover-bg-color);\n",
              "    box-shadow: 0 1px 2px rgba(60, 64, 67, 0.3), 0 1px 3px 1px rgba(60, 64, 67, 0.15);\n",
              "    fill: var(--button-hover-fill-color);\n",
              "  }\n",
              "\n",
              "  .colab-df-quickchart-complete:disabled,\n",
              "  .colab-df-quickchart-complete:disabled:hover {\n",
              "    background-color: var(--disabled-bg-color);\n",
              "    fill: var(--disabled-fill-color);\n",
              "    box-shadow: none;\n",
              "  }\n",
              "\n",
              "  .colab-df-spinner {\n",
              "    border: 2px solid var(--fill-color);\n",
              "    border-color: transparent;\n",
              "    border-bottom-color: var(--fill-color);\n",
              "    animation:\n",
              "      spin 1s steps(1) infinite;\n",
              "  }\n",
              "\n",
              "  @keyframes spin {\n",
              "    0% {\n",
              "      border-color: transparent;\n",
              "      border-bottom-color: var(--fill-color);\n",
              "      border-left-color: var(--fill-color);\n",
              "    }\n",
              "    20% {\n",
              "      border-color: transparent;\n",
              "      border-left-color: var(--fill-color);\n",
              "      border-top-color: var(--fill-color);\n",
              "    }\n",
              "    30% {\n",
              "      border-color: transparent;\n",
              "      border-left-color: var(--fill-color);\n",
              "      border-top-color: var(--fill-color);\n",
              "      border-right-color: var(--fill-color);\n",
              "    }\n",
              "    40% {\n",
              "      border-color: transparent;\n",
              "      border-right-color: var(--fill-color);\n",
              "      border-top-color: var(--fill-color);\n",
              "    }\n",
              "    60% {\n",
              "      border-color: transparent;\n",
              "      border-right-color: var(--fill-color);\n",
              "    }\n",
              "    80% {\n",
              "      border-color: transparent;\n",
              "      border-right-color: var(--fill-color);\n",
              "      border-bottom-color: var(--fill-color);\n",
              "    }\n",
              "    90% {\n",
              "      border-color: transparent;\n",
              "      border-bottom-color: var(--fill-color);\n",
              "    }\n",
              "  }\n",
              "</style>\n",
              "\n",
              "  <script>\n",
              "    async function quickchart(key) {\n",
              "      const quickchartButtonEl =\n",
              "        document.querySelector('#' + key + ' button');\n",
              "      quickchartButtonEl.disabled = true;  // To prevent multiple clicks.\n",
              "      quickchartButtonEl.classList.add('colab-df-spinner');\n",
              "      try {\n",
              "        const charts = await google.colab.kernel.invokeFunction(\n",
              "            'suggestCharts', [key], {});\n",
              "      } catch (error) {\n",
              "        console.error('Error during call to suggestCharts:', error);\n",
              "      }\n",
              "      quickchartButtonEl.classList.remove('colab-df-spinner');\n",
              "      quickchartButtonEl.classList.add('colab-df-quickchart-complete');\n",
              "    }\n",
              "    (() => {\n",
              "      let quickchartButtonEl =\n",
              "        document.querySelector('#df-a85a2213-00cb-4334-847a-a7cdfc6a85d0 button');\n",
              "      quickchartButtonEl.style.display =\n",
              "        google.colab.kernel.accessAllowed ? 'block' : 'none';\n",
              "    })();\n",
              "  </script>\n",
              "</div>\n",
              "\n",
              "    </div>\n",
              "  </div>\n"
            ],
            "application/vnd.google.colaboratory.intrinsic+json": {
              "type": "dataframe",
              "variable_name": "X",
              "summary": "{\n  \"name\": \"X\",\n  \"rows\": 1728,\n  \"fields\": [\n    {\n      \"column\": \"buying\",\n      \"properties\": {\n        \"dtype\": \"category\",\n        \"num_unique_values\": 4,\n        \"samples\": [\n          \"high\",\n          \"low\",\n          \"vhigh\"\n        ],\n        \"semantic_type\": \"\",\n        \"description\": \"\"\n      }\n    },\n    {\n      \"column\": \"maint\",\n      \"properties\": {\n        \"dtype\": \"category\",\n        \"num_unique_values\": 4,\n        \"samples\": [\n          \"high\",\n          \"low\",\n          \"vhigh\"\n        ],\n        \"semantic_type\": \"\",\n        \"description\": \"\"\n      }\n    },\n    {\n      \"column\": \"doors\",\n      \"properties\": {\n        \"dtype\": \"category\",\n        \"num_unique_values\": 4,\n        \"samples\": [\n          \"3\",\n          \"5more\",\n          \"2\"\n        ],\n        \"semantic_type\": \"\",\n        \"description\": \"\"\n      }\n    },\n    {\n      \"column\": \"persons\",\n      \"properties\": {\n        \"dtype\": \"category\",\n        \"num_unique_values\": 3,\n        \"samples\": [\n          \"2\",\n          \"4\",\n          \"more\"\n        ],\n        \"semantic_type\": \"\",\n        \"description\": \"\"\n      }\n    },\n    {\n      \"column\": \"lug_boot\",\n      \"properties\": {\n        \"dtype\": \"category\",\n        \"num_unique_values\": 3,\n        \"samples\": [\n          \"small\",\n          \"med\",\n          \"big\"\n        ],\n        \"semantic_type\": \"\",\n        \"description\": \"\"\n      }\n    },\n    {\n      \"column\": \"safety\",\n      \"properties\": {\n        \"dtype\": \"category\",\n        \"num_unique_values\": 3,\n        \"samples\": [\n          \"low\",\n          \"med\",\n          \"high\"\n        ],\n        \"semantic_type\": \"\",\n        \"description\": \"\"\n      }\n    }\n  ]\n}"
            }
          },
          "metadata": {},
          "execution_count": 17
        }
      ],
      "source": [
        "X.head()"
      ]
    },
    {
      "cell_type": "markdown",
      "metadata": {
        "id": "wZL9kMlk08fJ"
      },
      "source": [
        "# Feature Scaling\n"
      ]
    },
    {
      "cell_type": "code",
      "execution_count": 18,
      "metadata": {
        "id": "O9YxElAO-GqP"
      },
      "outputs": [],
      "source": [
        "X_bin = pd.DataFrame(index=X.index)"
      ]
    },
    {
      "cell_type": "markdown",
      "metadata": {
        "id": "RrHqF9PP1VNN"
      },
      "source": [
        "Buying is a feature representing buying price from low to very high.\n",
        "We will use nominal scaling to binarize it.\n"
      ]
    },
    {
      "cell_type": "code",
      "execution_count": 19,
      "metadata": {
        "colab": {
          "base_uri": "https://localhost:8080/",
          "height": 234
        },
        "id": "BloK-K1hysef",
        "outputId": "fb40d396-afee-44c0-c9b3-f7a811a8e68c"
      },
      "outputs": [
        {
          "output_type": "execute_result",
          "data": {
            "text/plain": [
              "buying\n",
              "vhigh    432\n",
              "high     432\n",
              "med      432\n",
              "low      432\n",
              "Name: count, dtype: int64"
            ],
            "text/html": [
              "<div>\n",
              "<style scoped>\n",
              "    .dataframe tbody tr th:only-of-type {\n",
              "        vertical-align: middle;\n",
              "    }\n",
              "\n",
              "    .dataframe tbody tr th {\n",
              "        vertical-align: top;\n",
              "    }\n",
              "\n",
              "    .dataframe thead th {\n",
              "        text-align: right;\n",
              "    }\n",
              "</style>\n",
              "<table border=\"1\" class=\"dataframe\">\n",
              "  <thead>\n",
              "    <tr style=\"text-align: right;\">\n",
              "      <th></th>\n",
              "      <th>count</th>\n",
              "    </tr>\n",
              "    <tr>\n",
              "      <th>buying</th>\n",
              "      <th></th>\n",
              "    </tr>\n",
              "  </thead>\n",
              "  <tbody>\n",
              "    <tr>\n",
              "      <th>vhigh</th>\n",
              "      <td>432</td>\n",
              "    </tr>\n",
              "    <tr>\n",
              "      <th>high</th>\n",
              "      <td>432</td>\n",
              "    </tr>\n",
              "    <tr>\n",
              "      <th>med</th>\n",
              "      <td>432</td>\n",
              "    </tr>\n",
              "    <tr>\n",
              "      <th>low</th>\n",
              "      <td>432</td>\n",
              "    </tr>\n",
              "  </tbody>\n",
              "</table>\n",
              "</div><br><label><b>dtype:</b> int64</label>"
            ]
          },
          "metadata": {},
          "execution_count": 19
        }
      ],
      "source": [
        "X['buying'].value_counts()"
      ]
    },
    {
      "cell_type": "code",
      "execution_count": 20,
      "metadata": {
        "id": "SeoOyTLuysNG"
      },
      "outputs": [],
      "source": [
        "X_bin['vhigh_price'] = (X['buying'] == 'vhigh').astype(int)\n",
        "X_bin['high_price'] = (X['buying'] == 'high').astype(int)\n",
        "X_bin['med_price'] = (X['buying'] == 'med').astype(int)\n",
        "X_bin['low_price'] = (X['buying'] == 'low').astype(int)"
      ]
    },
    {
      "cell_type": "markdown",
      "metadata": {
        "id": "OmDBP2tt7iDs"
      },
      "source": [
        "Similarly we binarize the price of the maintenance represented by maint feature"
      ]
    },
    {
      "cell_type": "code",
      "execution_count": 21,
      "metadata": {
        "colab": {
          "base_uri": "https://localhost:8080/",
          "height": 234
        },
        "id": "sg9WB6757d4v",
        "outputId": "e0bfe6f1-ad3c-47ce-c2c0-be919280c9f7"
      },
      "outputs": [
        {
          "output_type": "execute_result",
          "data": {
            "text/plain": [
              "maint\n",
              "vhigh    432\n",
              "high     432\n",
              "med      432\n",
              "low      432\n",
              "Name: count, dtype: int64"
            ],
            "text/html": [
              "<div>\n",
              "<style scoped>\n",
              "    .dataframe tbody tr th:only-of-type {\n",
              "        vertical-align: middle;\n",
              "    }\n",
              "\n",
              "    .dataframe tbody tr th {\n",
              "        vertical-align: top;\n",
              "    }\n",
              "\n",
              "    .dataframe thead th {\n",
              "        text-align: right;\n",
              "    }\n",
              "</style>\n",
              "<table border=\"1\" class=\"dataframe\">\n",
              "  <thead>\n",
              "    <tr style=\"text-align: right;\">\n",
              "      <th></th>\n",
              "      <th>count</th>\n",
              "    </tr>\n",
              "    <tr>\n",
              "      <th>maint</th>\n",
              "      <th></th>\n",
              "    </tr>\n",
              "  </thead>\n",
              "  <tbody>\n",
              "    <tr>\n",
              "      <th>vhigh</th>\n",
              "      <td>432</td>\n",
              "    </tr>\n",
              "    <tr>\n",
              "      <th>high</th>\n",
              "      <td>432</td>\n",
              "    </tr>\n",
              "    <tr>\n",
              "      <th>med</th>\n",
              "      <td>432</td>\n",
              "    </tr>\n",
              "    <tr>\n",
              "      <th>low</th>\n",
              "      <td>432</td>\n",
              "    </tr>\n",
              "  </tbody>\n",
              "</table>\n",
              "</div><br><label><b>dtype:</b> int64</label>"
            ]
          },
          "metadata": {},
          "execution_count": 21
        }
      ],
      "source": [
        "X['maint'].value_counts()"
      ]
    },
    {
      "cell_type": "code",
      "execution_count": 22,
      "metadata": {
        "id": "JzbPqcUr7d1o"
      },
      "outputs": [],
      "source": [
        "X_bin['vhigh_maint'] = (X['maint'] == 'vhigh').astype(int)\n",
        "X_bin['high_maint'] = (X['maint'] == 'high').astype(int)\n",
        "X_bin['med_maint'] = (X['maint'] == 'med').astype(int)\n",
        "X_bin['low_maint'] = (X['maint'] == 'low').astype(int)"
      ]
    },
    {
      "cell_type": "markdown",
      "metadata": {
        "id": "kNr5Jrnv8NMd"
      },
      "source": [
        "For features representing the number of doors and capacity in terms of persons to carry we use ordinal scale.\n"
      ]
    },
    {
      "cell_type": "code",
      "execution_count": 23,
      "metadata": {
        "colab": {
          "base_uri": "https://localhost:8080/",
          "height": 234
        },
        "id": "iU45P3EWwAq-",
        "outputId": "b803ee81-bbe5-4b2d-deb2-efdb03f8c938"
      },
      "outputs": [
        {
          "output_type": "execute_result",
          "data": {
            "text/plain": [
              "doors\n",
              "2        432\n",
              "3        432\n",
              "4        432\n",
              "5more    432\n",
              "Name: count, dtype: int64"
            ],
            "text/html": [
              "<div>\n",
              "<style scoped>\n",
              "    .dataframe tbody tr th:only-of-type {\n",
              "        vertical-align: middle;\n",
              "    }\n",
              "\n",
              "    .dataframe tbody tr th {\n",
              "        vertical-align: top;\n",
              "    }\n",
              "\n",
              "    .dataframe thead th {\n",
              "        text-align: right;\n",
              "    }\n",
              "</style>\n",
              "<table border=\"1\" class=\"dataframe\">\n",
              "  <thead>\n",
              "    <tr style=\"text-align: right;\">\n",
              "      <th></th>\n",
              "      <th>count</th>\n",
              "    </tr>\n",
              "    <tr>\n",
              "      <th>doors</th>\n",
              "      <th></th>\n",
              "    </tr>\n",
              "  </thead>\n",
              "  <tbody>\n",
              "    <tr>\n",
              "      <th>2</th>\n",
              "      <td>432</td>\n",
              "    </tr>\n",
              "    <tr>\n",
              "      <th>3</th>\n",
              "      <td>432</td>\n",
              "    </tr>\n",
              "    <tr>\n",
              "      <th>4</th>\n",
              "      <td>432</td>\n",
              "    </tr>\n",
              "    <tr>\n",
              "      <th>5more</th>\n",
              "      <td>432</td>\n",
              "    </tr>\n",
              "  </tbody>\n",
              "</table>\n",
              "</div><br><label><b>dtype:</b> int64</label>"
            ]
          },
          "metadata": {},
          "execution_count": 23
        }
      ],
      "source": [
        "X['doors'].value_counts()"
      ]
    },
    {
      "cell_type": "code",
      "execution_count": 24,
      "metadata": {
        "id": "_JqSRUjt-oKd"
      },
      "outputs": [],
      "source": [
        "X_bin['5+_doors'] = (X['doors'] == '5more').astype(int)\n",
        "X_bin['4+_doors'] = X['doors'].apply(lambda x: x in ['4','5more']).astype(int)\n",
        "X_bin['3+_doors'] = X['doors'].apply(lambda x: x in ['3', '4','5more']).astype(int)\n",
        "X_bin['2+_doors'] = X['doors'].apply(lambda x: x in ['2', '3', '4','5more']).astype(int)"
      ]
    },
    {
      "cell_type": "code",
      "execution_count": 25,
      "metadata": {
        "colab": {
          "base_uri": "https://localhost:8080/",
          "height": 203
        },
        "id": "fk1yxflH7dyP",
        "outputId": "051d8fe1-e90f-47f9-dcee-5dfad9ac0f5a"
      },
      "outputs": [
        {
          "output_type": "execute_result",
          "data": {
            "text/plain": [
              "persons\n",
              "2       576\n",
              "4       576\n",
              "more    576\n",
              "Name: count, dtype: int64"
            ],
            "text/html": [
              "<div>\n",
              "<style scoped>\n",
              "    .dataframe tbody tr th:only-of-type {\n",
              "        vertical-align: middle;\n",
              "    }\n",
              "\n",
              "    .dataframe tbody tr th {\n",
              "        vertical-align: top;\n",
              "    }\n",
              "\n",
              "    .dataframe thead th {\n",
              "        text-align: right;\n",
              "    }\n",
              "</style>\n",
              "<table border=\"1\" class=\"dataframe\">\n",
              "  <thead>\n",
              "    <tr style=\"text-align: right;\">\n",
              "      <th></th>\n",
              "      <th>count</th>\n",
              "    </tr>\n",
              "    <tr>\n",
              "      <th>persons</th>\n",
              "      <th></th>\n",
              "    </tr>\n",
              "  </thead>\n",
              "  <tbody>\n",
              "    <tr>\n",
              "      <th>2</th>\n",
              "      <td>576</td>\n",
              "    </tr>\n",
              "    <tr>\n",
              "      <th>4</th>\n",
              "      <td>576</td>\n",
              "    </tr>\n",
              "    <tr>\n",
              "      <th>more</th>\n",
              "      <td>576</td>\n",
              "    </tr>\n",
              "  </tbody>\n",
              "</table>\n",
              "</div><br><label><b>dtype:</b> int64</label>"
            ]
          },
          "metadata": {},
          "execution_count": 25
        }
      ],
      "source": [
        "X['persons'].value_counts()"
      ]
    },
    {
      "cell_type": "code",
      "execution_count": 26,
      "metadata": {
        "id": "wFSII_P67dvI"
      },
      "outputs": [],
      "source": [
        "X_bin['5+_persons'] = (X['persons'] == 'more').astype(int)\n",
        "X_bin['4+_persons'] = X['persons'].apply(lambda x: x in ['4','more']).astype(int)\n",
        "X_bin['2+_persons'] = X['persons'].apply(lambda x: x in ['2', '4','more']).astype(int)"
      ]
    },
    {
      "cell_type": "markdown",
      "source": [
        "For features representig the size of luggage boot and estimated safety of the car we use Nominal Scale."
      ],
      "metadata": {
        "id": "vVDvyF7IKIWv"
      }
    },
    {
      "cell_type": "code",
      "execution_count": 27,
      "metadata": {
        "colab": {
          "base_uri": "https://localhost:8080/",
          "height": 203
        },
        "id": "3svjCQFn7dj-",
        "outputId": "4d385782-03cc-4886-be8a-1ae5a70d876a"
      },
      "outputs": [
        {
          "output_type": "execute_result",
          "data": {
            "text/plain": [
              "lug_boot\n",
              "small    576\n",
              "med      576\n",
              "big      576\n",
              "Name: count, dtype: int64"
            ],
            "text/html": [
              "<div>\n",
              "<style scoped>\n",
              "    .dataframe tbody tr th:only-of-type {\n",
              "        vertical-align: middle;\n",
              "    }\n",
              "\n",
              "    .dataframe tbody tr th {\n",
              "        vertical-align: top;\n",
              "    }\n",
              "\n",
              "    .dataframe thead th {\n",
              "        text-align: right;\n",
              "    }\n",
              "</style>\n",
              "<table border=\"1\" class=\"dataframe\">\n",
              "  <thead>\n",
              "    <tr style=\"text-align: right;\">\n",
              "      <th></th>\n",
              "      <th>count</th>\n",
              "    </tr>\n",
              "    <tr>\n",
              "      <th>lug_boot</th>\n",
              "      <th></th>\n",
              "    </tr>\n",
              "  </thead>\n",
              "  <tbody>\n",
              "    <tr>\n",
              "      <th>small</th>\n",
              "      <td>576</td>\n",
              "    </tr>\n",
              "    <tr>\n",
              "      <th>med</th>\n",
              "      <td>576</td>\n",
              "    </tr>\n",
              "    <tr>\n",
              "      <th>big</th>\n",
              "      <td>576</td>\n",
              "    </tr>\n",
              "  </tbody>\n",
              "</table>\n",
              "</div><br><label><b>dtype:</b> int64</label>"
            ]
          },
          "metadata": {},
          "execution_count": 27
        }
      ],
      "source": [
        "X['lug_boot'].value_counts()"
      ]
    },
    {
      "cell_type": "code",
      "execution_count": 28,
      "metadata": {
        "id": "Gv7Se2_q_DMW"
      },
      "outputs": [],
      "source": [
        "X_bin['big_boot'] = (X['lug_boot'] == 'big').astype(int)\n",
        "X_bin['med_boot'] = (X['lug_boot'] == 'med').astype(int)\n",
        "X_bin['small_boot'] = (X['lug_boot'] == 'small').astype(int)"
      ]
    },
    {
      "cell_type": "code",
      "execution_count": 29,
      "metadata": {
        "colab": {
          "base_uri": "https://localhost:8080/",
          "height": 203
        },
        "id": "pfIN9TDZ_DJA",
        "outputId": "d392b7b7-3331-4dda-9051-77400d3a3fe4"
      },
      "outputs": [
        {
          "output_type": "execute_result",
          "data": {
            "text/plain": [
              "safety\n",
              "low     576\n",
              "med     576\n",
              "high    576\n",
              "Name: count, dtype: int64"
            ],
            "text/html": [
              "<div>\n",
              "<style scoped>\n",
              "    .dataframe tbody tr th:only-of-type {\n",
              "        vertical-align: middle;\n",
              "    }\n",
              "\n",
              "    .dataframe tbody tr th {\n",
              "        vertical-align: top;\n",
              "    }\n",
              "\n",
              "    .dataframe thead th {\n",
              "        text-align: right;\n",
              "    }\n",
              "</style>\n",
              "<table border=\"1\" class=\"dataframe\">\n",
              "  <thead>\n",
              "    <tr style=\"text-align: right;\">\n",
              "      <th></th>\n",
              "      <th>count</th>\n",
              "    </tr>\n",
              "    <tr>\n",
              "      <th>safety</th>\n",
              "      <th></th>\n",
              "    </tr>\n",
              "  </thead>\n",
              "  <tbody>\n",
              "    <tr>\n",
              "      <th>low</th>\n",
              "      <td>576</td>\n",
              "    </tr>\n",
              "    <tr>\n",
              "      <th>med</th>\n",
              "      <td>576</td>\n",
              "    </tr>\n",
              "    <tr>\n",
              "      <th>high</th>\n",
              "      <td>576</td>\n",
              "    </tr>\n",
              "  </tbody>\n",
              "</table>\n",
              "</div><br><label><b>dtype:</b> int64</label>"
            ]
          },
          "metadata": {},
          "execution_count": 29
        }
      ],
      "source": [
        "X['safety'].value_counts()"
      ]
    },
    {
      "cell_type": "code",
      "execution_count": 30,
      "metadata": {
        "id": "8wlTGzjy_C_2"
      },
      "outputs": [],
      "source": [
        "X_bin['high_safety'] = (X['safety'] == 'high').astype(int)\n",
        "X_bin['med_safety'] = (X['safety'] == 'med').astype(int)\n",
        "X_bin['low_safety'] = (X['safety'] == 'low').astype(int)"
      ]
    },
    {
      "cell_type": "code",
      "execution_count": 31,
      "metadata": {
        "colab": {
          "base_uri": "https://localhost:8080/",
          "height": 249
        },
        "id": "xB1hwFof_C8t",
        "outputId": "9feba636-c465-4525-8d0c-3085d75a8966"
      },
      "outputs": [
        {
          "output_type": "execute_result",
          "data": {
            "text/plain": [
              "   vhigh_price  high_price  med_price  low_price  vhigh_maint  high_maint  \\\n",
              "0            1           0          0          0            1           0   \n",
              "1            1           0          0          0            1           0   \n",
              "2            1           0          0          0            1           0   \n",
              "3            1           0          0          0            1           0   \n",
              "4            1           0          0          0            1           0   \n",
              "\n",
              "   med_maint  low_maint  5+_doors  4+_doors  ...  2+_doors  5+_persons  \\\n",
              "0          0          0         0         0  ...         1           0   \n",
              "1          0          0         0         0  ...         1           0   \n",
              "2          0          0         0         0  ...         1           0   \n",
              "3          0          0         0         0  ...         1           0   \n",
              "4          0          0         0         0  ...         1           0   \n",
              "\n",
              "   4+_persons  2+_persons  big_boot  med_boot  small_boot  high_safety  \\\n",
              "0           0           1         0         0           1            0   \n",
              "1           0           1         0         0           1            0   \n",
              "2           0           1         0         0           1            1   \n",
              "3           0           1         0         1           0            0   \n",
              "4           0           1         0         1           0            0   \n",
              "\n",
              "   med_safety  low_safety  \n",
              "0           0           1  \n",
              "1           1           0  \n",
              "2           0           0  \n",
              "3           0           1  \n",
              "4           1           0  \n",
              "\n",
              "[5 rows x 21 columns]"
            ],
            "text/html": [
              "\n",
              "  <div id=\"df-4032a436-3f44-4432-84ea-46a7a9886bf6\" class=\"colab-df-container\">\n",
              "    <div>\n",
              "<style scoped>\n",
              "    .dataframe tbody tr th:only-of-type {\n",
              "        vertical-align: middle;\n",
              "    }\n",
              "\n",
              "    .dataframe tbody tr th {\n",
              "        vertical-align: top;\n",
              "    }\n",
              "\n",
              "    .dataframe thead th {\n",
              "        text-align: right;\n",
              "    }\n",
              "</style>\n",
              "<table border=\"1\" class=\"dataframe\">\n",
              "  <thead>\n",
              "    <tr style=\"text-align: right;\">\n",
              "      <th></th>\n",
              "      <th>vhigh_price</th>\n",
              "      <th>high_price</th>\n",
              "      <th>med_price</th>\n",
              "      <th>low_price</th>\n",
              "      <th>vhigh_maint</th>\n",
              "      <th>high_maint</th>\n",
              "      <th>med_maint</th>\n",
              "      <th>low_maint</th>\n",
              "      <th>5+_doors</th>\n",
              "      <th>4+_doors</th>\n",
              "      <th>...</th>\n",
              "      <th>2+_doors</th>\n",
              "      <th>5+_persons</th>\n",
              "      <th>4+_persons</th>\n",
              "      <th>2+_persons</th>\n",
              "      <th>big_boot</th>\n",
              "      <th>med_boot</th>\n",
              "      <th>small_boot</th>\n",
              "      <th>high_safety</th>\n",
              "      <th>med_safety</th>\n",
              "      <th>low_safety</th>\n",
              "    </tr>\n",
              "  </thead>\n",
              "  <tbody>\n",
              "    <tr>\n",
              "      <th>0</th>\n",
              "      <td>1</td>\n",
              "      <td>0</td>\n",
              "      <td>0</td>\n",
              "      <td>0</td>\n",
              "      <td>1</td>\n",
              "      <td>0</td>\n",
              "      <td>0</td>\n",
              "      <td>0</td>\n",
              "      <td>0</td>\n",
              "      <td>0</td>\n",
              "      <td>...</td>\n",
              "      <td>1</td>\n",
              "      <td>0</td>\n",
              "      <td>0</td>\n",
              "      <td>1</td>\n",
              "      <td>0</td>\n",
              "      <td>0</td>\n",
              "      <td>1</td>\n",
              "      <td>0</td>\n",
              "      <td>0</td>\n",
              "      <td>1</td>\n",
              "    </tr>\n",
              "    <tr>\n",
              "      <th>1</th>\n",
              "      <td>1</td>\n",
              "      <td>0</td>\n",
              "      <td>0</td>\n",
              "      <td>0</td>\n",
              "      <td>1</td>\n",
              "      <td>0</td>\n",
              "      <td>0</td>\n",
              "      <td>0</td>\n",
              "      <td>0</td>\n",
              "      <td>0</td>\n",
              "      <td>...</td>\n",
              "      <td>1</td>\n",
              "      <td>0</td>\n",
              "      <td>0</td>\n",
              "      <td>1</td>\n",
              "      <td>0</td>\n",
              "      <td>0</td>\n",
              "      <td>1</td>\n",
              "      <td>0</td>\n",
              "      <td>1</td>\n",
              "      <td>0</td>\n",
              "    </tr>\n",
              "    <tr>\n",
              "      <th>2</th>\n",
              "      <td>1</td>\n",
              "      <td>0</td>\n",
              "      <td>0</td>\n",
              "      <td>0</td>\n",
              "      <td>1</td>\n",
              "      <td>0</td>\n",
              "      <td>0</td>\n",
              "      <td>0</td>\n",
              "      <td>0</td>\n",
              "      <td>0</td>\n",
              "      <td>...</td>\n",
              "      <td>1</td>\n",
              "      <td>0</td>\n",
              "      <td>0</td>\n",
              "      <td>1</td>\n",
              "      <td>0</td>\n",
              "      <td>0</td>\n",
              "      <td>1</td>\n",
              "      <td>1</td>\n",
              "      <td>0</td>\n",
              "      <td>0</td>\n",
              "    </tr>\n",
              "    <tr>\n",
              "      <th>3</th>\n",
              "      <td>1</td>\n",
              "      <td>0</td>\n",
              "      <td>0</td>\n",
              "      <td>0</td>\n",
              "      <td>1</td>\n",
              "      <td>0</td>\n",
              "      <td>0</td>\n",
              "      <td>0</td>\n",
              "      <td>0</td>\n",
              "      <td>0</td>\n",
              "      <td>...</td>\n",
              "      <td>1</td>\n",
              "      <td>0</td>\n",
              "      <td>0</td>\n",
              "      <td>1</td>\n",
              "      <td>0</td>\n",
              "      <td>1</td>\n",
              "      <td>0</td>\n",
              "      <td>0</td>\n",
              "      <td>0</td>\n",
              "      <td>1</td>\n",
              "    </tr>\n",
              "    <tr>\n",
              "      <th>4</th>\n",
              "      <td>1</td>\n",
              "      <td>0</td>\n",
              "      <td>0</td>\n",
              "      <td>0</td>\n",
              "      <td>1</td>\n",
              "      <td>0</td>\n",
              "      <td>0</td>\n",
              "      <td>0</td>\n",
              "      <td>0</td>\n",
              "      <td>0</td>\n",
              "      <td>...</td>\n",
              "      <td>1</td>\n",
              "      <td>0</td>\n",
              "      <td>0</td>\n",
              "      <td>1</td>\n",
              "      <td>0</td>\n",
              "      <td>1</td>\n",
              "      <td>0</td>\n",
              "      <td>0</td>\n",
              "      <td>1</td>\n",
              "      <td>0</td>\n",
              "    </tr>\n",
              "  </tbody>\n",
              "</table>\n",
              "<p>5 rows × 21 columns</p>\n",
              "</div>\n",
              "    <div class=\"colab-df-buttons\">\n",
              "\n",
              "  <div class=\"colab-df-container\">\n",
              "    <button class=\"colab-df-convert\" onclick=\"convertToInteractive('df-4032a436-3f44-4432-84ea-46a7a9886bf6')\"\n",
              "            title=\"Convert this dataframe to an interactive table.\"\n",
              "            style=\"display:none;\">\n",
              "\n",
              "  <svg xmlns=\"http://www.w3.org/2000/svg\" height=\"24px\" viewBox=\"0 -960 960 960\">\n",
              "    <path d=\"M120-120v-720h720v720H120Zm60-500h600v-160H180v160Zm220 220h160v-160H400v160Zm0 220h160v-160H400v160ZM180-400h160v-160H180v160Zm440 0h160v-160H620v160ZM180-180h160v-160H180v160Zm440 0h160v-160H620v160Z\"/>\n",
              "  </svg>\n",
              "    </button>\n",
              "\n",
              "  <style>\n",
              "    .colab-df-container {\n",
              "      display:flex;\n",
              "      gap: 12px;\n",
              "    }\n",
              "\n",
              "    .colab-df-convert {\n",
              "      background-color: #E8F0FE;\n",
              "      border: none;\n",
              "      border-radius: 50%;\n",
              "      cursor: pointer;\n",
              "      display: none;\n",
              "      fill: #1967D2;\n",
              "      height: 32px;\n",
              "      padding: 0 0 0 0;\n",
              "      width: 32px;\n",
              "    }\n",
              "\n",
              "    .colab-df-convert:hover {\n",
              "      background-color: #E2EBFA;\n",
              "      box-shadow: 0px 1px 2px rgba(60, 64, 67, 0.3), 0px 1px 3px 1px rgba(60, 64, 67, 0.15);\n",
              "      fill: #174EA6;\n",
              "    }\n",
              "\n",
              "    .colab-df-buttons div {\n",
              "      margin-bottom: 4px;\n",
              "    }\n",
              "\n",
              "    [theme=dark] .colab-df-convert {\n",
              "      background-color: #3B4455;\n",
              "      fill: #D2E3FC;\n",
              "    }\n",
              "\n",
              "    [theme=dark] .colab-df-convert:hover {\n",
              "      background-color: #434B5C;\n",
              "      box-shadow: 0px 1px 3px 1px rgba(0, 0, 0, 0.15);\n",
              "      filter: drop-shadow(0px 1px 2px rgba(0, 0, 0, 0.3));\n",
              "      fill: #FFFFFF;\n",
              "    }\n",
              "  </style>\n",
              "\n",
              "    <script>\n",
              "      const buttonEl =\n",
              "        document.querySelector('#df-4032a436-3f44-4432-84ea-46a7a9886bf6 button.colab-df-convert');\n",
              "      buttonEl.style.display =\n",
              "        google.colab.kernel.accessAllowed ? 'block' : 'none';\n",
              "\n",
              "      async function convertToInteractive(key) {\n",
              "        const element = document.querySelector('#df-4032a436-3f44-4432-84ea-46a7a9886bf6');\n",
              "        const dataTable =\n",
              "          await google.colab.kernel.invokeFunction('convertToInteractive',\n",
              "                                                    [key], {});\n",
              "        if (!dataTable) return;\n",
              "\n",
              "        const docLinkHtml = 'Like what you see? Visit the ' +\n",
              "          '<a target=\"_blank\" href=https://colab.research.google.com/notebooks/data_table.ipynb>data table notebook</a>'\n",
              "          + ' to learn more about interactive tables.';\n",
              "        element.innerHTML = '';\n",
              "        dataTable['output_type'] = 'display_data';\n",
              "        await google.colab.output.renderOutput(dataTable, element);\n",
              "        const docLink = document.createElement('div');\n",
              "        docLink.innerHTML = docLinkHtml;\n",
              "        element.appendChild(docLink);\n",
              "      }\n",
              "    </script>\n",
              "  </div>\n",
              "\n",
              "\n",
              "<div id=\"df-421ced23-702a-470d-88e5-b3b6ffaac571\">\n",
              "  <button class=\"colab-df-quickchart\" onclick=\"quickchart('df-421ced23-702a-470d-88e5-b3b6ffaac571')\"\n",
              "            title=\"Suggest charts\"\n",
              "            style=\"display:none;\">\n",
              "\n",
              "<svg xmlns=\"http://www.w3.org/2000/svg\" height=\"24px\"viewBox=\"0 0 24 24\"\n",
              "     width=\"24px\">\n",
              "    <g>\n",
              "        <path d=\"M19 3H5c-1.1 0-2 .9-2 2v14c0 1.1.9 2 2 2h14c1.1 0 2-.9 2-2V5c0-1.1-.9-2-2-2zM9 17H7v-7h2v7zm4 0h-2V7h2v10zm4 0h-2v-4h2v4z\"/>\n",
              "    </g>\n",
              "</svg>\n",
              "  </button>\n",
              "\n",
              "<style>\n",
              "  .colab-df-quickchart {\n",
              "      --bg-color: #E8F0FE;\n",
              "      --fill-color: #1967D2;\n",
              "      --hover-bg-color: #E2EBFA;\n",
              "      --hover-fill-color: #174EA6;\n",
              "      --disabled-fill-color: #AAA;\n",
              "      --disabled-bg-color: #DDD;\n",
              "  }\n",
              "\n",
              "  [theme=dark] .colab-df-quickchart {\n",
              "      --bg-color: #3B4455;\n",
              "      --fill-color: #D2E3FC;\n",
              "      --hover-bg-color: #434B5C;\n",
              "      --hover-fill-color: #FFFFFF;\n",
              "      --disabled-bg-color: #3B4455;\n",
              "      --disabled-fill-color: #666;\n",
              "  }\n",
              "\n",
              "  .colab-df-quickchart {\n",
              "    background-color: var(--bg-color);\n",
              "    border: none;\n",
              "    border-radius: 50%;\n",
              "    cursor: pointer;\n",
              "    display: none;\n",
              "    fill: var(--fill-color);\n",
              "    height: 32px;\n",
              "    padding: 0;\n",
              "    width: 32px;\n",
              "  }\n",
              "\n",
              "  .colab-df-quickchart:hover {\n",
              "    background-color: var(--hover-bg-color);\n",
              "    box-shadow: 0 1px 2px rgba(60, 64, 67, 0.3), 0 1px 3px 1px rgba(60, 64, 67, 0.15);\n",
              "    fill: var(--button-hover-fill-color);\n",
              "  }\n",
              "\n",
              "  .colab-df-quickchart-complete:disabled,\n",
              "  .colab-df-quickchart-complete:disabled:hover {\n",
              "    background-color: var(--disabled-bg-color);\n",
              "    fill: var(--disabled-fill-color);\n",
              "    box-shadow: none;\n",
              "  }\n",
              "\n",
              "  .colab-df-spinner {\n",
              "    border: 2px solid var(--fill-color);\n",
              "    border-color: transparent;\n",
              "    border-bottom-color: var(--fill-color);\n",
              "    animation:\n",
              "      spin 1s steps(1) infinite;\n",
              "  }\n",
              "\n",
              "  @keyframes spin {\n",
              "    0% {\n",
              "      border-color: transparent;\n",
              "      border-bottom-color: var(--fill-color);\n",
              "      border-left-color: var(--fill-color);\n",
              "    }\n",
              "    20% {\n",
              "      border-color: transparent;\n",
              "      border-left-color: var(--fill-color);\n",
              "      border-top-color: var(--fill-color);\n",
              "    }\n",
              "    30% {\n",
              "      border-color: transparent;\n",
              "      border-left-color: var(--fill-color);\n",
              "      border-top-color: var(--fill-color);\n",
              "      border-right-color: var(--fill-color);\n",
              "    }\n",
              "    40% {\n",
              "      border-color: transparent;\n",
              "      border-right-color: var(--fill-color);\n",
              "      border-top-color: var(--fill-color);\n",
              "    }\n",
              "    60% {\n",
              "      border-color: transparent;\n",
              "      border-right-color: var(--fill-color);\n",
              "    }\n",
              "    80% {\n",
              "      border-color: transparent;\n",
              "      border-right-color: var(--fill-color);\n",
              "      border-bottom-color: var(--fill-color);\n",
              "    }\n",
              "    90% {\n",
              "      border-color: transparent;\n",
              "      border-bottom-color: var(--fill-color);\n",
              "    }\n",
              "  }\n",
              "</style>\n",
              "\n",
              "  <script>\n",
              "    async function quickchart(key) {\n",
              "      const quickchartButtonEl =\n",
              "        document.querySelector('#' + key + ' button');\n",
              "      quickchartButtonEl.disabled = true;  // To prevent multiple clicks.\n",
              "      quickchartButtonEl.classList.add('colab-df-spinner');\n",
              "      try {\n",
              "        const charts = await google.colab.kernel.invokeFunction(\n",
              "            'suggestCharts', [key], {});\n",
              "      } catch (error) {\n",
              "        console.error('Error during call to suggestCharts:', error);\n",
              "      }\n",
              "      quickchartButtonEl.classList.remove('colab-df-spinner');\n",
              "      quickchartButtonEl.classList.add('colab-df-quickchart-complete');\n",
              "    }\n",
              "    (() => {\n",
              "      let quickchartButtonEl =\n",
              "        document.querySelector('#df-421ced23-702a-470d-88e5-b3b6ffaac571 button');\n",
              "      quickchartButtonEl.style.display =\n",
              "        google.colab.kernel.accessAllowed ? 'block' : 'none';\n",
              "    })();\n",
              "  </script>\n",
              "</div>\n",
              "\n",
              "    </div>\n",
              "  </div>\n"
            ],
            "application/vnd.google.colaboratory.intrinsic+json": {
              "type": "dataframe",
              "variable_name": "X_bin"
            }
          },
          "metadata": {},
          "execution_count": 31
        }
      ],
      "source": [
        "X_bin.head()"
      ]
    },
    {
      "cell_type": "markdown",
      "source": [
        "We will also binarize the target  "
      ],
      "metadata": {
        "id": "ECekq57NKZos"
      }
    },
    {
      "cell_type": "code",
      "execution_count": 32,
      "metadata": {
        "id": "LnXDXtZl_C53"
      },
      "outputs": [],
      "source": [
        "y_bin = y['class'].map({'unacc': 0, 'acc': 1, 'good': 1, 'vgood': 1})"
      ]
    },
    {
      "cell_type": "code",
      "execution_count": 33,
      "metadata": {
        "id": "D0FKmVSCFLMU"
      },
      "outputs": [],
      "source": [
        "# Split binarized features and target in train test sets\n",
        "X_train, X_test, y_train, y_test = train_test_split(X_bin, y_bin, test_size=0.2, stratify=y, random_state=42)"
      ]
    },
    {
      "cell_type": "markdown",
      "metadata": {
        "id": "y1HZnbOLFEE6"
      },
      "source": [
        "# Lazy FCA Class"
      ]
    },
    {
      "cell_type": "code",
      "execution_count": 34,
      "metadata": {
        "id": "Cqh2TkXnO9tf"
      },
      "outputs": [],
      "source": [
        "from typing import List, Any\n",
        "\n",
        "class LazyFCAa:\n",
        "    def __init__(self):\n",
        "        self.X_train = None\n",
        "        self.y_train = None\n",
        "\n",
        "    def fit(self, X_train: pd.DataFrame, y_train: pd.Series) -> None:\n",
        "        self.X_train = X_train\n",
        "        self.y_train = y_train\n",
        "\n",
        "    def classify_sample(self, sample: pd.Series) -> Any:\n",
        "        # Split X_train into positive and negative classes\n",
        "        X_train_positive = self.X_train[self.y_train == 1]\n",
        "        X_train_negative = self.X_train[self.y_train == 0]\n",
        "\n",
        "        # Count matches for positive and negative classifiers\n",
        "        positive_classifiers = sum((sample & pos_sample).equals(sample) for _, pos_sample in X_train_positive.iterrows())\n",
        "        negative_classifiers = sum((sample & neg_sample).equals(sample) for _, neg_sample in X_train_negative.iterrows())\n",
        "\n",
        "        # Return class based on classifier counts\n",
        "        if positive_classifiers > negative_classifiers:\n",
        "            print(f\"sample {sample.name} is classified as positive\")\n",
        "            return 1\n",
        "        elif negative_classifiers > positive_classifiers:\n",
        "            print(f\"sample {sample.name} is classified as negative\")\n",
        "            return 0\n",
        "        else:\n",
        "            print(f\"sample {sample.name} is classified as positive default\")\n",
        "            return 1\n",
        "\n",
        "    def predict(self, X_test: pd.DataFrame) -> List[Any]:\n",
        "        return [self.classify_sample(sample) for _, sample in X_test.iterrows()]\n"
      ]
    },
    {
      "cell_type": "code",
      "execution_count": 35,
      "metadata": {
        "id": "3HaI9V7ZFLI7"
      },
      "outputs": [],
      "source": [
        " # Initialize and fit the classifier\n",
        "classifier = LazyFCAa()\n",
        "classifier.fit(X_train, y_train)"
      ]
    },
    {
      "cell_type": "code",
      "execution_count": 36,
      "metadata": {
        "colab": {
          "base_uri": "https://localhost:8080/"
        },
        "id": "iHbJVDVVFLF0",
        "outputId": "948a55eb-fe9d-4a14-cf6e-0918f32088de"
      },
      "outputs": [
        {
          "output_type": "stream",
          "name": "stdout",
          "text": [
            "sample 1696 is classified as positive\n",
            "sample 906 is classified as negative\n",
            "sample 524 is classified as negative\n",
            "sample 1080 is classified as negative\n",
            "sample 593 is classified as positive\n",
            "sample 169 is classified as negative\n",
            "sample 928 is classified as negative\n",
            "sample 389 is classified as positive\n",
            "sample 1500 is classified as positive default\n",
            "sample 526 is classified as negative\n",
            "sample 159 is classified as negative\n",
            "sample 784 is classified as negative\n",
            "sample 1072 is classified as positive default\n",
            "sample 461 is classified as negative\n",
            "sample 1283 is classified as positive\n",
            "sample 711 is classified as negative\n",
            "sample 644 is classified as positive default\n",
            "sample 1438 is classified as positive\n",
            "sample 273 is classified as negative\n",
            "sample 145 is classified as negative\n",
            "sample 216 is classified as negative\n",
            "sample 924 is classified as negative\n",
            "sample 985 is classified as positive\n",
            "sample 979 is classified as positive\n",
            "sample 1547 is classified as positive\n",
            "sample 469 is classified as negative\n",
            "sample 1136 is classified as positive\n",
            "sample 245 is classified as positive\n",
            "sample 957 is classified as negative\n",
            "sample 1685 is classified as positive\n",
            "sample 1300 is classified as positive\n",
            "sample 1412 is classified as positive\n",
            "sample 938 is classified as positive\n",
            "sample 191 is classified as negative\n",
            "sample 451 is classified as negative\n",
            "sample 1582 is classified as positive\n",
            "sample 1621 is classified as negative\n",
            "sample 976 is classified as negative\n",
            "sample 1348 is classified as positive\n",
            "sample 1422 is classified as negative\n",
            "sample 287 is classified as positive\n",
            "sample 1052 is classified as positive default\n",
            "sample 1105 is classified as positive\n",
            "sample 1385 is classified as positive\n",
            "sample 22 is classified as negative\n",
            "sample 1400 is classified as positive default\n",
            "sample 817 is classified as positive\n",
            "sample 202 is classified as negative\n",
            "sample 1115 is classified as positive\n",
            "sample 1346 is classified as positive\n",
            "sample 1570 is classified as positive\n",
            "sample 290 is classified as positive\n",
            "sample 1602 is classified as negative\n",
            "sample 577 is classified as negative\n",
            "sample 1173 is classified as negative\n",
            "sample 1123 is classified as positive\n",
            "sample 1295 is classified as positive default\n",
            "sample 869 is classified as positive\n",
            "sample 1231 is classified as positive\n",
            "sample 1032 is classified as negative\n",
            "sample 1720 is classified as positive default\n",
            "sample 1447 is classified as positive\n",
            "sample 529 is classified as negative\n",
            "sample 864 is classified as negative\n",
            "sample 581 is classified as positive\n",
            "sample 133 is classified as negative\n",
            "sample 922 is classified as positive\n",
            "sample 646 is classified as positive default\n",
            "sample 1625 is classified as positive\n",
            "sample 1297 is classified as negative\n",
            "sample 936 is classified as negative\n",
            "sample 261 is classified as negative\n",
            "sample 821 is classified as positive\n",
            "sample 1527 is classified as negative\n",
            "sample 532 is classified as positive default\n",
            "sample 1262 is classified as positive\n",
            "sample 1343 is classified as positive\n",
            "sample 588 is classified as negative\n",
            "sample 1630 is classified as positive\n",
            "sample 900 is classified as negative\n",
            "sample 468 is classified as negative\n",
            "sample 1497 is classified as negative\n",
            "sample 489 is classified as negative\n",
            "sample 1395 is classified as positive default\n",
            "sample 1110 is classified as negative\n",
            "sample 9 is classified as negative\n",
            "sample 172 is classified as negative\n",
            "sample 0 is classified as negative\n",
            "sample 796 is classified as positive\n",
            "sample 610 is classified as positive\n",
            "sample 977 is classified as positive\n",
            "sample 904 is classified as positive\n",
            "sample 1396 is classified as positive default\n",
            "sample 606 is classified as negative\n",
            "sample 362 is classified as positive\n",
            "sample 1693 is classified as positive default\n",
            "sample 1112 is classified as positive\n",
            "sample 738 is classified as negative\n",
            "sample 1606 is classified as positive\n",
            "sample 1467 is classified as negative\n",
            "sample 1248 is classified as negative\n",
            "sample 1068 is classified as negative\n",
            "sample 854 is classified as positive\n",
            "sample 1188 is classified as negative\n",
            "sample 845 is classified as positive\n",
            "sample 62 is classified as negative\n",
            "sample 1364 is classified as positive\n",
            "sample 1658 is classified as positive\n",
            "sample 1328 is classified as positive default\n",
            "sample 908 is classified as positive\n",
            "sample 1691 is classified as positive\n",
            "sample 1448 is classified as positive\n",
            "sample 1593 is classified as negative\n",
            "sample 521 is classified as negative\n",
            "sample 970 is classified as positive default\n",
            "sample 322 is classified as positive default\n",
            "sample 1407 is classified as negative\n",
            "sample 1163 is classified as positive\n",
            "sample 895 is classified as positive\n",
            "sample 315 is classified as positive default\n",
            "sample 1315 is classified as negative\n",
            "sample 1626 is classified as negative\n",
            "sample 527 is classified as negative\n",
            "sample 638 is classified as positive\n",
            "sample 1367 is classified as positive\n",
            "sample 1472 is classified as positive\n",
            "sample 467 is classified as negative\n",
            "sample 1001 is classified as positive\n",
            "sample 230 is classified as positive\n",
            "sample 1238 is classified as positive\n",
            "sample 740 is classified as positive\n",
            "sample 28 is classified as negative\n",
            "sample 1518 is classified as negative\n",
            "sample 1425 is classified as negative\n",
            "sample 64 is classified as negative\n",
            "sample 458 is classified as negative\n",
            "sample 409 is classified as positive\n",
            "sample 868 is classified as positive\n",
            "sample 11 is classified as negative\n",
            "sample 1471 is classified as positive\n",
            "sample 1042 is classified as positive\n",
            "sample 143 is classified as negative\n",
            "sample 812 is classified as positive\n",
            "sample 1079 is classified as positive default\n",
            "sample 1277 is classified as positive\n",
            "sample 79 is classified as negative\n",
            "sample 1481 is classified as positive\n",
            "sample 1721 is classified as positive default\n",
            "sample 98 is classified as negative\n",
            "sample 942 is classified as negative\n",
            "sample 503 is classified as negative\n",
            "sample 1318 is classified as positive\n",
            "sample 1616 is classified as positive default\n",
            "sample 1153 is classified as positive\n",
            "sample 1411 is classified as positive\n",
            "sample 1065 is classified as positive default\n",
            "sample 1178 is classified as positive\n",
            "sample 698 is classified as positive\n",
            "sample 1501 is classified as positive\n",
            "sample 90 is classified as negative\n",
            "sample 61 is classified as negative\n",
            "sample 598 is classified as positive\n",
            "sample 445 is classified as negative\n",
            "sample 1635 is classified as negative\n",
            "sample 570 is classified as negative\n",
            "sample 1026 is classified as negative\n",
            "sample 960 is classified as negative\n",
            "sample 760 is classified as negative\n",
            "sample 1486 is classified as positive\n",
            "sample 400 is classified as positive\n",
            "sample 217 is classified as negative\n",
            "sample 911 is classified as positive\n",
            "sample 1378 is classified as negative\n",
            "sample 1337 is classified as positive\n",
            "sample 1142 is classified as positive\n",
            "sample 516 is classified as negative\n",
            "sample 1657 is classified as positive\n",
            "sample 645 is classified as positive default\n",
            "sample 393 is classified as negative\n",
            "sample 825 is classified as negative\n",
            "sample 1455 is classified as negative\n",
            "sample 144 is classified as negative\n",
            "sample 1170 is classified as negative\n",
            "sample 1279 is classified as positive\n",
            "sample 1485 is classified as negative\n",
            "sample 373 is classified as positive\n",
            "sample 280 is classified as negative\n",
            "sample 846 is classified as negative\n",
            "sample 93 is classified as negative\n",
            "sample 794 is classified as positive\n",
            "sample 882 is classified as negative\n",
            "sample 1561 is classified as positive\n",
            "sample 444 is classified as negative\n",
            "sample 1244 is classified as positive\n",
            "sample 832 is classified as positive\n",
            "sample 77 is classified as positive default\n",
            "sample 114 is classified as negative\n",
            "sample 1056 is classified as positive default\n",
            "sample 605 is classified as positive\n",
            "sample 748 is classified as positive default\n",
            "sample 542 is classified as positive\n",
            "sample 431 is classified as positive default\n",
            "sample 1519 is classified as positive\n",
            "sample 837 is classified as negative\n",
            "sample 84 is classified as negative\n",
            "sample 40 is classified as negative\n",
            "sample 95 is classified as positive default\n",
            "sample 508 is classified as negative\n",
            "sample 815 is classified as positive\n",
            "sample 944 is classified as positive\n",
            "sample 1629 is classified as negative\n",
            "sample 1375 is classified as positive\n",
            "sample 271 is classified as negative\n",
            "sample 1121 is classified as positive\n",
            "sample 1233 is classified as negative\n",
            "sample 484 is classified as negative\n",
            "sample 603 is classified as negative\n",
            "sample 724 is classified as positive\n",
            "sample 166 is classified as negative\n",
            "sample 82 is classified as negative\n",
            "sample 545 is classified as positive\n",
            "sample 1654 is classified as positive\n",
            "sample 1317 is classified as negative\n",
            "sample 1159 is classified as positive\n",
            "sample 634 is classified as positive\n",
            "sample 945 is classified as negative\n",
            "sample 986 is classified as positive\n",
            "sample 1650 is classified as negative\n",
            "sample 1609 is classified as positive\n",
            "sample 1033 is classified as positive\n",
            "sample 392 is classified as positive\n",
            "sample 50 is classified as positive default\n",
            "sample 1162 is classified as positive\n",
            "sample 307 is classified as negative\n",
            "sample 927 is classified as negative\n",
            "sample 658 is classified as negative\n",
            "sample 1307 is classified as positive\n",
            "sample 476 is classified as negative\n",
            "sample 1216 is classified as positive\n",
            "sample 189 is classified as negative\n",
            "sample 1152 is classified as negative\n",
            "sample 1469 is classified as positive\n",
            "sample 1688 is classified as positive\n",
            "sample 1193 is classified as positive\n",
            "sample 104 is classified as positive default\n",
            "sample 1404 is classified as negative\n",
            "sample 456 is classified as negative\n",
            "sample 75 is classified as negative\n",
            "sample 1381 is classified as positive\n",
            "sample 615 is classified as negative\n",
            "sample 823 is classified as positive\n",
            "sample 547 is classified as positive\n",
            "sample 1145 is classified as positive\n",
            "sample 1090 is classified as positive\n",
            "sample 1583 is classified as positive\n",
            "sample 1192 is classified as positive\n",
            "sample 679 is classified as positive\n",
            "sample 1432 is classified as positive\n",
            "sample 964 is classified as positive default\n",
            "sample 4 is classified as negative\n",
            "sample 1281 is classified as negative\n",
            "sample 1220 is classified as positive\n",
            "sample 1327 is classified as positive\n",
            "sample 1226 is classified as positive\n",
            "sample 108 is classified as negative\n",
            "sample 89 is classified as negative\n",
            "sample 1663 is classified as positive\n",
            "sample 1571 is classified as positive\n",
            "sample 1302 is classified as negative\n",
            "sample 248 is classified as positive\n",
            "sample 424 is classified as positive default\n",
            "sample 513 is classified as negative\n",
            "sample 1587 is classified as negative\n",
            "sample 1594 is classified as positive\n",
            "sample 1320 is classified as negative\n",
            "sample 1301 is classified as positive\n",
            "sample 1144 is classified as positive\n",
            "sample 933 is classified as negative\n",
            "sample 1513 is classified as positive\n",
            "sample 575 is classified as positive\n",
            "sample 1464 is classified as negative\n",
            "sample 1219 is classified as positive\n",
            "sample 423 is classified as positive default\n",
            "sample 1130 is classified as positive\n",
            "sample 374 is classified as positive\n",
            "sample 990 is classified as negative\n",
            "sample 879 is classified as negative\n",
            "sample 967 is classified as positive default\n",
            "sample 902 is classified as positive\n",
            "sample 836 is classified as positive\n",
            "sample 1074 is classified as positive default\n",
            "sample 1029 is classified as negative\n",
            "sample 304 is classified as positive\n",
            "sample 1113 is classified as negative\n",
            "sample 1066 is classified as positive\n",
            "sample 1470 is classified as negative\n",
            "sample 46 is classified as negative\n",
            "sample 1102 is classified as positive\n",
            "sample 528 is classified as negative\n",
            "sample 391 is classified as positive\n",
            "sample 376 is classified as positive\n",
            "sample 1552 is classified as positive\n",
            "sample 1140 is classified as negative\n",
            "sample 238 is classified as positive\n",
            "sample 1704 is classified as negative\n",
            "sample 57 is classified as negative\n",
            "sample 1590 is classified as negative\n",
            "sample 34 is classified as negative\n",
            "sample 1291 is classified as positive default\n",
            "sample 907 is classified as positive\n",
            "sample 397 is classified as positive default\n",
            "sample 841 is classified as positive\n",
            "sample 870 is classified as negative\n",
            "sample 1450 is classified as positive\n",
            "sample 1509 is classified as positive default\n",
            "sample 1689 is classified as negative\n",
            "sample 1006 is classified as positive\n",
            "sample 1018 is classified as negative\n",
            "sample 1260 is classified as negative\n",
            "sample 996 is classified as negative\n",
            "sample 118 is classified as negative\n",
            "sample 683 is classified as positive\n",
            "sample 1143 is classified as negative\n",
            "sample 1473 is classified as negative\n",
            "sample 223 is classified as positive\n",
            "sample 1530 is classified as negative\n",
            "sample 579 is classified as negative\n",
            "sample 1484 is classified as positive\n",
            "sample 36 is classified as negative\n",
            "sample 781 is classified as positive\n",
            "sample 38 is classified as negative\n",
            "sample 1168 is classified as positive\n",
            "sample 1161 is classified as negative\n",
            "sample 729 is classified as negative\n",
            "sample 1636 is classified as positive\n",
            "sample 905 is classified as positive\n",
            "sample 176 is classified as negative\n",
            "sample 582 is classified as negative\n",
            "sample 1257 is classified as negative\n",
            "sample 1403 is classified as positive default\n",
            "sample 1468 is classified as positive\n",
            "sample 1659 is classified as negative\n",
            "sample 266 is classified as positive\n",
            "sample 387 is classified as negative\n",
            "sample 1114 is classified as positive\n",
            "sample 1419 is classified as negative\n"
          ]
        }
      ],
      "source": [
        "# Predict using the classifier\n",
        "y_pred = classifier.predict(X_test)"
      ]
    },
    {
      "cell_type": "code",
      "execution_count": 56,
      "metadata": {
        "id": "1e2LAAXJFLB8",
        "colab": {
          "base_uri": "https://localhost:8080/"
        },
        "outputId": "f3330aab-b109-45eb-c609-7e72f4aa7a71"
      },
      "outputs": [
        {
          "output_type": "execute_result",
          "data": {
            "text/plain": [
              "(0.7098976109215017, 0.7543352601156069, 0.5502645502645502)"
            ]
          },
          "metadata": {},
          "execution_count": 56
        }
      ],
      "source": [
        "f1_score(y_test, y_pred), accuracy_score(y_test, y_pred), precision_score(y_test, y_pred)"
      ]
    },
    {
      "cell_type": "markdown",
      "source": [
        "# Other models\n"
      ],
      "metadata": {
        "id": "9RIKl_IXZr0p"
      }
    },
    {
      "cell_type": "code",
      "source": [
        "import xgboost as xgb"
      ],
      "metadata": {
        "id": "alomighzZypj"
      },
      "execution_count": 47,
      "outputs": []
    },
    {
      "cell_type": "code",
      "source": [
        "xgb_model = xgb.XGBClassifier(objective=\"binary:logistic\", random_state=42)\n",
        "xgb_model.fit(X_train, y_train)\n",
        "\n",
        "y_pred_xgb = xgb_model.predict(X_test)"
      ],
      "metadata": {
        "id": "HPlf4U_7ZymB"
      },
      "execution_count": 48,
      "outputs": []
    },
    {
      "cell_type": "code",
      "source": [
        "f1_score(y_test, y_pred_xgb), accuracy_score(y_test, y_pred_xgb), precision_score(y_test, y_pred_xgb)"
      ],
      "metadata": {
        "colab": {
          "base_uri": "https://localhost:8080/"
        },
        "id": "jXfQOHCZZybf",
        "outputId": "6805cfa6-1581-4071-a8a6-235228f562db"
      },
      "execution_count": 49,
      "outputs": [
        {
          "output_type": "execute_result",
          "data": {
            "text/plain": [
              "(1.0, 1.0, 1.0)"
            ]
          },
          "metadata": {},
          "execution_count": 49
        }
      ]
    },
    {
      "cell_type": "code",
      "source": [
        "from sklearn.ensemble import RandomForestClassifier\n",
        "\n",
        "RandomForestClassifier = RandomForestClassifier(random_state=42)\n",
        "RandomForestClassifier.fit(X_train, y_train)\n",
        "\n",
        "y_pred_rf = RandomForestClassifier.predict(X_test)\n",
        "\n",
        "f1_score(y_test, y_pred_rf), accuracy_score(y_test, y_pred_rf), precision_score(y_test, y_pred_rf)\n"
      ],
      "metadata": {
        "colab": {
          "base_uri": "https://localhost:8080/"
        },
        "id": "ddfnlu5EZyTc",
        "outputId": "d2f217d4-912e-4ce9-b9dd-055b0b398846"
      },
      "execution_count": 50,
      "outputs": [
        {
          "output_type": "execute_result",
          "data": {
            "text/plain": [
              "(0.9855072463768116, 0.9913294797687862, 0.9902912621359223)"
            ]
          },
          "metadata": {},
          "execution_count": 50
        }
      ]
    },
    {
      "cell_type": "code",
      "source": [
        "from sklearn.ensemble import GradientBoostingClassifier\n",
        "\n",
        "GradientBoostingClassifier = GradientBoostingClassifier(random_state=42)\n",
        "GradientBoostingClassifier.fit(X_train, y_train)\n",
        "\n",
        "y_pred_gb = GradientBoostingClassifier.predict(X_test)\n",
        "\n",
        "f1_score(y_test, y_pred_gb), accuracy_score(y_test, y_pred_gb), precision_score(y_test, y_pred_gb)"
      ],
      "metadata": {
        "colab": {
          "base_uri": "https://localhost:8080/"
        },
        "id": "AfE4-WyVZyQj",
        "outputId": "61179e00-5aff-466a-c82d-bedb74fa1c0f"
      },
      "execution_count": 51,
      "outputs": [
        {
          "output_type": "execute_result",
          "data": {
            "text/plain": [
              "(0.9765258215962441, 0.9855491329479769, 0.9541284403669725)"
            ]
          },
          "metadata": {},
          "execution_count": 51
        }
      ]
    },
    {
      "cell_type": "code",
      "source": [
        "from sklearn.linear_model import LogisticRegression\n",
        "\n",
        "LogisticRegression = LogisticRegression(random_state=42)\n",
        "LogisticRegression.fit(X_train, y_train)\n",
        "\n",
        "y_pred_lr = LogisticRegression.predict(X_test)\n",
        "\n",
        "f1_score(y_test, y_pred_lr), accuracy_score(y_test, y_pred_lr), precision_score(y_test, y_pred_lr)"
      ],
      "metadata": {
        "colab": {
          "base_uri": "https://localhost:8080/"
        },
        "id": "YB5qkwJUZyNu",
        "outputId": "8fea9859-68d0-428e-9210-8a0a4225e75d"
      },
      "execution_count": 52,
      "outputs": [
        {
          "output_type": "execute_result",
          "data": {
            "text/plain": [
              "(0.9289099526066351, 0.9566473988439307, 0.9158878504672897)"
            ]
          },
          "metadata": {},
          "execution_count": 52
        }
      ]
    },
    {
      "source": [
        "model_scores = {\n",
        "    'LazyFCAa': {\n",
        "        'f1': f1_score(y_test, y_pred),\n",
        "        'accuracy': accuracy_score(y_test, y_pred),\n",
        "        'precision': precision_score(y_test, y_pred)\n",
        "    },\n",
        "    'XGBoost': {\n",
        "        'f1': f1_score(y_test, y_pred_xgb),\n",
        "        'accuracy': accuracy_score(y_test, y_pred_xgb),\n",
        "        'precision': precision_score(y_test, y_pred_xgb)\n",
        "    },\n",
        "    'Random Forest': {\n",
        "        'f1': f1_score(y_test, y_pred_rf),\n",
        "        'accuracy': accuracy_score(y_test, y_pred_rf),\n",
        "        'precision': precision_score(y_test, y_pred_rf)\n",
        "    },\n",
        "    'Gradient Boosting': {\n",
        "        'f1': f1_score(y_test, y_pred_gb),\n",
        "        'accuracy': accuracy_score(y_test, y_pred_gb),\n",
        "        'precision': precision_score(y_test, y_pred_gb)\n",
        "    },\n",
        "    'Logistic Regression': {\n",
        "        'f1': f1_score(y_test, y_pred_lr),\n",
        "        'accuracy': accuracy_score(y_test, y_pred_lr),\n",
        "        'precision': precision_score(y_test, y_pred_lr)\n",
        "    }\n",
        "}"
      ],
      "cell_type": "code",
      "metadata": {
        "id": "M1wAAOAoO4uW"
      },
      "execution_count": 53,
      "outputs": []
    },
    {
      "source": [
        "metrics = ['f1', 'accuracy', 'precision']\n",
        "model_names = list(model_scores.keys())\n",
        "x = np.arange(len(model_names))\n",
        "width = 0.15\n",
        "\n",
        "fig, ax = plt.subplots(figsize=(12, 6))\n",
        "\n",
        "for i, metric in enumerate(metrics):\n",
        "    ax.bar(x + i * width, [model_scores[model][metric] for model in model_names], width, label=metric)\n",
        "\n",
        "\n",
        "ax.set_ylabel('Scores')\n",
        "ax.set_title('Model Performance Comparison')\n",
        "ax.set_xticks(x + (len(metrics) / 2) * width)\n",
        "ax.set_xticklabels(model_names)\n",
        "ax.legend()\n",
        "\n",
        "fig.tight_layout()\n",
        "plt.show()"
      ],
      "cell_type": "code",
      "metadata": {
        "colab": {
          "base_uri": "https://localhost:8080/",
          "height": 607
        },
        "id": "MYdpWH_MO63m",
        "outputId": "bda4f7e4-e6b8-42b7-ae63-8453e0cb5283"
      },
      "execution_count": 55,
      "outputs": [
        {
          "output_type": "display_data",
          "data": {
            "text/plain": [
              "<Figure size 1200x600 with 1 Axes>"
            ],
            "image/png": "[encoded data removed]"
          },
          "metadata": {}
        }
      ]
    }
  ],
  "metadata": {
    "colab": {
      "provenance": []
    },
    "kernelspec": {
      "display_name": "Python 3",
      "name": "python3"
    },
    "language_info": {
      "name": "python"
    }
  },
  "nbformat": 4,
  "nbformat_minor": 0
}